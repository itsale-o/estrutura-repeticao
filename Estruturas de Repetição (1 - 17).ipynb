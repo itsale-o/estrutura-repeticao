{
 "cells": [
  {
   "cell_type": "markdown",
   "id": "ac60394f",
   "metadata": {
    "id": "ac60394f"
   },
   "source": [
    "# Estruturas de repetição"
   ]
  },
  {
   "cell_type": "markdown",
   "id": "017affd0",
   "metadata": {
    "id": "017affd0"
   },
   "source": [
    "#### 1. Faça um programa que peça uma nota, entre zero e dez. Mostre uma mensagem caso o valor seja inválido e continue pedindo até que o usuário informe um valor válido."
   ]
  },
  {
   "cell_type": "code",
   "execution_count": null,
   "id": "5f12870d",
   "metadata": {
    "id": "5f12870d"
   },
   "outputs": [],
   "source": [
    "nota = float(input('Insira uma nota entre 0 e 10: '))\n",
    "\n",
    "while not (0 <= nota <= 10):\n",
    "    print('Nota inválida')\n",
    "    nota = float(input('Insira uma nota entre 0 e 10: '))"
   ]
  },
  {
   "cell_type": "markdown",
   "id": "dd0c6d56",
   "metadata": {
    "id": "dd0c6d56"
   },
   "source": [
    "#### 2. Faça um programa que leia um nome de usuário e a sua senha e não aceite a senha igual ao nome do usuário, mostrando uma mensagem de erro e voltando a pedir as informações."
   ]
  },
  {
   "cell_type": "code",
   "execution_count": null,
   "id": "f6579866",
   "metadata": {
    "id": "f6579866"
   },
   "outputs": [],
   "source": [
    "usuario = input('Nome de usuário: ')\n",
    "senha = input('Senha: ')\n",
    "\n",
    "while senha == usuario:\n",
    "    print('Verifique se as informações estão corretas.\\nInsira nome de usuário e senha novamente:')\n",
    "    usuario = input('Nome de usuário: ')\n",
    "    senha = input('Senha: ')"
   ]
  },
  {
   "cell_type": "markdown",
   "id": "ed113a82",
   "metadata": {
    "id": "ed113a82"
   },
   "source": [
    "#### 3. Faça um programa que leia e valide as seguintes informações (e para cada uma delas, continue pedindo a informação até o usuário inserir corretamente):\n",
    "\n",
    "- ##### Nome: maior que 3 caracteres;\n",
    "- ##### Idade: entre 0 e 150;\n",
    "- ##### Salário: maior que zero;\n",
    "- ##### Sexo: 'f' ou 'm';\n",
    "- ##### Estado Civil: 's', 'c', 'v', 'd';"
   ]
  },
  {
   "cell_type": "code",
   "execution_count": null,
   "id": "3284f187",
   "metadata": {
    "id": "3284f187"
   },
   "outputs": [],
   "source": [
    "nome = input('Nome: ')\n",
    "while len(nome) < 4:\n",
    "    print('Nome inválido')\n",
    "    nome = input('Nome: ')\n",
    "    \n",
    "idade = float(input('Idade: '))\n",
    "while not (0 <= idade <= 150):\n",
    "    print('Insira um valor válido para a idade')\n",
    "    idade = float(input('Idade: '))\n",
    "    \n",
    "salario = float(input('Salário: R$ '))\n",
    "while not salario > 0:\n",
    "    print('Valor inválido para salário')\n",
    "    salario = float(input('Salário: R$ '))\n",
    "\n",
    "genero = input('Gênero (m ou f): ')\n",
    "while not (genero == 'm' or genero == 'f'):\n",
    "    print('Gênero inválido')\n",
    "    genero = input('Gênero (m ou f): ')\n",
    "\n",
    "estado_civil = input('Estado civil (s, c, d, v): ')\n",
    "while not (estado_civil == 's' or estado_civil == 'c' or estado_civil == 'd' or estado_civil == 'v'):\n",
    "    print('Entrada inválida')\n",
    "    estado_civil = input('Estado civil (s, c, d, v): ')"
   ]
  },
  {
   "cell_type": "markdown",
   "id": "2f25dceb",
   "metadata": {
    "id": "2f25dceb"
   },
   "source": [
    "#### 4. Supondo que a população de um país A seja da ordem de 80000 habitantes com uma taxa anual de crescimento de 3% e que a população de B seja 200000 habitantes com uma taxa de crescimento de 1.5%. Faça um programa que calcule e escreva o número de anos necessários para que a população do país A ultrapasse ou iguale a população do país B, mantidas as taxas de crescimento."
   ]
  },
  {
   "cell_type": "code",
   "execution_count": null,
   "id": "7ad0f5e9",
   "metadata": {
    "id": "7ad0f5e9"
   },
   "outputs": [],
   "source": [
    "a = 80000\n",
    "b = 200000\n",
    "tempo = 0\n",
    "\n",
    "while a < b:\n",
    "    a = a + (0.03 * a)\n",
    "    b = b + (0.015 * b)\n",
    "    tempo += 1\n",
    "print(f'Serão necessário {tempo:.0f} anos para que a população do país A se iguale ou ultrapasse a população do país B')"
   ]
  },
  {
   "cell_type": "markdown",
   "id": "e9626858",
   "metadata": {
    "id": "e9626858"
   },
   "source": [
    "#### 5. Altere o programa anterior permitindo ao usuário informar as populações e as taxas de crescimento iniciais. Valide a entrada e permita repetir a operação."
   ]
  },
  {
   "cell_type": "code",
   "execution_count": null,
   "id": "c7e250a4",
   "metadata": {
    "id": "c7e250a4",
    "scrolled": true
   },
   "outputs": [],
   "source": [
    "a = float(input('População do país A: '))\n",
    "taxa_a = float(input('Taxa de crescimento anual do país A (%): '))\n",
    "b = float(input('População do país B: '))\n",
    "taxa_b = float(input('Taxa de crescimento anual do país B (%): '))\n",
    "tempo = 0\n",
    "\n",
    "if a == b:\n",
    "    print('A população dos dois países atualmente é a mesma')\n",
    "else:\n",
    "    if a < b:\n",
    "        while a < b:\n",
    "            a = a + ((taxa_a / 100) * a)\n",
    "            b = b + ((taxa_b / 100) * b)\n",
    "            tempo += 1\n",
    "        print(f'Serão necessário {tempo:.0f} anos para que a população do país A se iguale ou ultrapasse a população do país B')\n",
    "    else:\n",
    "        while b < a:\n",
    "            a = a + ((taxa_a / 100) * a)\n",
    "            b = b + ((taxa_b / 100) * b)\n",
    "            tempo += 1\n",
    "        print(f'Serão necessário {tempo:.0f} anos para que a população do país B se iguale ou ultrapasse a população do país A')"
   ]
  },
  {
   "cell_type": "markdown",
   "id": "1c6e99ca",
   "metadata": {},
   "source": [
    "#### 6. Faça um programa que imprima na tela os números de 1 a 20, um abaixo do outro. Depois modifique o programa para que ele mostre os números um ao lado do outro."
   ]
  },
  {
   "cell_type": "code",
   "execution_count": null,
   "id": "01f5c905",
   "metadata": {
    "scrolled": true
   },
   "outputs": [],
   "source": [
    "for i in range (1,21):\n",
    "    print (i)\n",
    "for j in range (1, 21):\n",
    "    print (j, end = ' ')"
   ]
  },
  {
   "cell_type": "markdown",
   "id": "f7a25f51",
   "metadata": {},
   "source": [
    "#### 7. Faça um programa que leia 5 números e informe o maior número."
   ]
  },
  {
   "cell_type": "code",
   "execution_count": null,
   "id": "0773f739",
   "metadata": {
    "scrolled": true
   },
   "outputs": [],
   "source": [
    "numeros = []\n",
    "while len(numeros) < 5:\n",
    "    num = float(input('Informe um número: '))\n",
    "    numeros.append(num)\n",
    "print(f'O maior número é o {max(numeros):.0f}')"
   ]
  },
  {
   "cell_type": "markdown",
   "id": "be096231",
   "metadata": {},
   "source": [
    "#### 8. Faça um programa que leia 5 números e informe a soma e a média dos números."
   ]
  },
  {
   "cell_type": "code",
   "execution_count": null,
   "id": "e38b838a",
   "metadata": {
    "scrolled": true
   },
   "outputs": [],
   "source": [
    "numeros = []\n",
    "while len(numeros) < 5:\n",
    "    num = float(input('Informe um número: '))\n",
    "    numeros.append(num)\n",
    "soma = sum(numeros)\n",
    "media = sum(numeros) / len(numeros)\n",
    "print(f'Soma: {soma:.0f}\\nMédia: {media:.0f}')"
   ]
  },
  {
   "cell_type": "markdown",
   "id": "c50d9088",
   "metadata": {},
   "source": [
    "#### 9. Faça um programa que imprima na tela apenas os números ímpares entre 1 e 50."
   ]
  },
  {
   "cell_type": "code",
   "execution_count": null,
   "id": "3c951107",
   "metadata": {},
   "outputs": [],
   "source": [
    "for i in range(1, 51, 2):\n",
    "    print(i, end = ' ')"
   ]
  },
  {
   "cell_type": "markdown",
   "id": "9ff429d3",
   "metadata": {},
   "source": [
    "#### 10. Faça um programa que receba dois números inteiros e gere os números inteiros que estão no intervalo compreendido por eles."
   ]
  },
  {
   "cell_type": "code",
   "execution_count": null,
   "id": "665796cf",
   "metadata": {
    "scrolled": true
   },
   "outputs": [],
   "source": [
    "num1 = int(input('Primeiro número: '))\n",
    "num2 = int(input('Segundo número: '))\n",
    "\n",
    "for i in range(num1 + 1, num2):\n",
    "    print(i, end = ' ')"
   ]
  },
  {
   "cell_type": "markdown",
   "id": "8521e273",
   "metadata": {},
   "source": [
    "#### 11. Altere o programa anterior para mostrar no final a soma dos números."
   ]
  },
  {
   "cell_type": "code",
   "execution_count": null,
   "id": "a6539628",
   "metadata": {
    "scrolled": true
   },
   "outputs": [],
   "source": [
    "intervalo_numeros = []\n",
    "num1 = int(input('Primeiro número: '))\n",
    "num2 = int(input('Segundo número: '))\n",
    "\n",
    "for i in range(num1 + 1, num2):\n",
    "    intervalo_numeros.append(i)\n",
    "print(f'Soma do intervalo: {sum(intervalo_numeros)}')"
   ]
  },
  {
   "cell_type": "markdown",
   "id": "461b5152",
   "metadata": {},
   "source": [
    "#### 12. Desenvolva um gerador de tabuada, capaz de gerar a tabuada de qualquer número inteiro entre 1 a 10. O usuário deve informar de qual numero ele deseja ver a tabuada. A saída deve ser conforme o exemplo abaixo:\n",
    "\n",
    "<pre>\n",
    "Tabuada de 5:\n",
    "5 X 1 = 5\n",
    "5 X 2 = 10\n",
    "...\n",
    "5 X 10 = 50\n",
    "</pre>"
   ]
  },
  {
   "cell_type": "code",
   "execution_count": null,
   "id": "a415c637",
   "metadata": {
    "scrolled": true
   },
   "outputs": [],
   "source": [
    "numero = int(input('Informe um número de 1 a 10: '))\n",
    "\n",
    "print(f'Tabuada de {numero}:')\n",
    "for i in range(1, 11):\n",
    "    print(f'{numero} x {i} = {numero * i}')"
   ]
  },
  {
   "cell_type": "markdown",
   "id": "541ffa28",
   "metadata": {},
   "source": [
    "#### 13. Faça um programa que peça dois números, base e expoente, calcule e mostre o primeiro número elevado ao segundo número. Não utilize a função de potência da linguagem."
   ]
  },
  {
   "cell_type": "code",
   "execution_count": null,
   "id": "44c341e2",
   "metadata": {},
   "outputs": [],
   "source": [
    "base = int(input('Base: '))\n",
    "exp = int(input('Expoente: '))\n",
    "potencia = 1\n",
    "\n",
    "for i in range(exp):\n",
    "    potencia *= base\n",
    "    i += 1\n",
    "print(f'{base} ^ {exp} = {potencia}')"
   ]
  },
  {
   "cell_type": "markdown",
   "id": "cc06180f",
   "metadata": {},
   "source": [
    "#### 14. Faça um programa que peça 10 números inteiros, calcule e mostre a quantidade de números pares e a quantidade de números impares."
   ]
  },
  {
   "cell_type": "code",
   "execution_count": null,
   "id": "a9eb6915",
   "metadata": {
    "scrolled": true
   },
   "outputs": [],
   "source": [
    "par = 0\n",
    "impar = 0\n",
    "\n",
    "for i in range(10):\n",
    "    num = int(input('Insira um número: '))\n",
    "    if num % 2 == 0:\n",
    "        par += 1\n",
    "    else:\n",
    "        impar += 1\n",
    "print(f'{par} números pares e {impar} números ímpares')"
   ]
  },
  {
   "cell_type": "markdown",
   "id": "5088d879",
   "metadata": {},
   "source": [
    "#### 15. A série de Fibonacci é formada pela sequência 1, 1, 2, 3, 5, 8, 13, 21, 34, 55, ... Faça um programa capaz de gerar a série até o n−ésimo termo."
   ]
  },
  {
   "cell_type": "code",
   "execution_count": null,
   "id": "0eb9c990",
   "metadata": {},
   "outputs": [],
   "source": [
    "n = int(input('Informe o termo da sequência de Fibonacci que deseja encontrar: '))\n",
    "ultimo = 1\n",
    "penultimo = 1\n",
    "\n",
    "if (n == 1) or (n == 2):\n",
    "    print(f'{n}° termo da sequência de Fibonacci: 1')\n",
    "else:\n",
    "    for i in range(2, n):\n",
    "        termo = ultimo + penultimo\n",
    "        penultimo = ultimo\n",
    "        ultimo = termo\n",
    "        i += 1\n",
    "    print(f'{n}° termo da sequência de Fibonacci: {termo}')"
   ]
  },
  {
   "cell_type": "markdown",
   "id": "a8158f13",
   "metadata": {},
   "source": [
    "#### 16. A série de Fibonacci é formada pela seqüência 0, 1, 1, 2, 3, 5, 8, 13, 21, 34, 55, ... Faça um programa que gere a série até que o valor seja maior que 500"
   ]
  },
  {
   "cell_type": "code",
   "execution_count": null,
   "id": "c6bb3755",
   "metadata": {
    "scrolled": true
   },
   "outputs": [],
   "source": [
    "ultimo = 1\n",
    "penultimo = 1\n",
    "print(ultimo, end = ' ')\n",
    "print(penultimo, end = ' ')\n",
    "termo = 0\n",
    "\n",
    "while termo < 500:\n",
    "    termo = ultimo + penultimo\n",
    "    penultimo = ultimo\n",
    "    ultimo = termo\n",
    "    if termo < 500:\n",
    "        print(termo, end = ' ')\n",
    "    else:\n",
    "        print('\\nO proximo valor será maior que 500')"
   ]
  },
  {
   "cell_type": "markdown",
   "id": "bb75e341",
   "metadata": {},
   "source": [
    "#### 17. Faça um programa que calcule o fatorial de um número inteiro fornecido pelo usuário. \n",
    "\n",
    "Ex.: 5! = 5.4.3.2.1 = 120"
   ]
  },
  {
   "cell_type": "code",
   "execution_count": null,
   "id": "afc7c58e",
   "metadata": {},
   "outputs": [],
   "source": [
    "num = int(input('Informe um número para o cálculo de seu fatorial: '))\n",
    "print(f'{num}! =', end = ' ')\n",
    "for i in range(1, num):\n",
    "    result = i * num\n",
    "    num = result\n",
    "print(result)"
   ]
  }
 ],
 "metadata": {
  "colab": {
   "collapsed_sections": [],
   "provenance": []
  },
  "kernelspec": {
   "display_name": "Python 3 (ipykernel)",
   "language": "python",
   "name": "python3"
  },
  "language_info": {
   "codemirror_mode": {
    "name": "ipython",
    "version": 3
   },
   "file_extension": ".py",
   "mimetype": "text/x-python",
   "name": "python",
   "nbconvert_exporter": "python",
   "pygments_lexer": "ipython3",
   "version": "3.9.7"
  }
 },
 "nbformat": 4,
 "nbformat_minor": 5
}
