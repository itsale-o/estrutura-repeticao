{
 "cells": [
  {
   "cell_type": "markdown",
   "id": "5b0c6fe3",
   "metadata": {},
   "source": [
    "# Estruturas de Repetição"
   ]
  },
  {
   "cell_type": "markdown",
   "id": "304441c7",
   "metadata": {},
   "source": [
    "#### 35. Encontrar números primos é uma tarefa difícil. Faça um programa que gera uma lista dos números primos existentes entre 1 e um número inteiro informado pelo usuário."
   ]
  },
  {
   "cell_type": "code",
   "execution_count": 1,
   "id": "552d9f3a",
   "metadata": {
    "scrolled": false
   },
   "outputs": [
    {
     "name": "stdout",
     "output_type": "stream",
     "text": [
      "Informe um número: 15\n",
      "1 é número primo\n",
      "2 é número primo\n",
      "3 é número primo\n",
      "5 é número primo\n",
      "7 é número primo\n",
      "11 é número primo\n",
      "13 é número primo\n"
     ]
    }
   ],
   "source": [
    "n = int(input('Informe um número: '))\n",
    "primos = []\n",
    "\n",
    "for i in range(1, n + 1):\n",
    "    if i >= 1:\n",
    "        for j in range(2, i):\n",
    "            if (i % j == 0):\n",
    "                break\n",
    "        else:\n",
    "            primos.append(i)\n",
    "            print(f'{i} é número primo')"
   ]
  },
  {
   "cell_type": "markdown",
   "id": "08ec4328",
   "metadata": {},
   "source": [
    "#### 36. Desenvolva um programa que faça a tabuada de um número qualquer inteiro que será digitado pelo usuário, mas a tabuada não deve necessariamente iniciar em 1 e terminar em 10, o valor inicial e final devem ser informados também pelo usuário, conforme exemplo abaixo:\n",
    "<pre>\n",
    "Montar a tabuada de: 5\n",
    "Começar por: 4\n",
    "Terminar em: 7\n",
    "\n",
    "Vou montar a tabuada de 5 começando em 4 e terminando em 7:\n",
    "5 X 4 = 20\n",
    "5 X 5 = 25\n",
    "5 X 6 = 30\n",
    "5 X 7 = 35\n",
    "</pre>\n",
    "\n",
    "Obs: Você deve verificar se o usuário não digitou o final menor que o inicial."
   ]
  },
  {
   "cell_type": "code",
   "execution_count": 13,
   "id": "c7ae3c7a",
   "metadata": {
    "scrolled": true
   },
   "outputs": [
    {
     "name": "stdout",
     "output_type": "stream",
     "text": [
      "Montar a tabuada de: 8\n",
      "Começa: 5\n",
      "Termina: 9\n",
      "Vou montar a tabuada de 8 começando por 5 e terminando em 9: \n",
      "8 x 5 = 40\n",
      "8 x 6 = 48\n",
      "8 x 7 = 56\n",
      "8 x 8 = 64\n",
      "8 x 9 = 72\n"
     ]
    }
   ],
   "source": [
    "num = int(input('Montar a tabuada de: '))\n",
    "comeca = int(input('Começa: '))\n",
    "termina = int(input('Termina: '))\n",
    "\n",
    "if termina < comeca:\n",
    "    while termina < comeca:\n",
    "        print('O valor final deve ser maior que o valor inicial')\n",
    "        comeca = int(input('Começa: '))\n",
    "        termina = int(input('Termina: '))\n",
    "        print(f'Vou montar a tabuada de {num} começando por {comeca} e terminando em {termina}: ')\n",
    "        for i in range(comeca, termina + 1):\n",
    "            print(f'{num} x {i} = {num * i}')\n",
    "else:\n",
    "    print(f'Vou montar a tabuada de {num} começando por {comeca} e terminando em {termina}: ')\n",
    "    for i in range(comeca, termina + 1):\n",
    "        print(f'{num} x {i} = {num * i}')"
   ]
  },
  {
   "cell_type": "markdown",
   "id": "c57e77ec",
   "metadata": {},
   "source": [
    "#### 37. Uma academia deseja fazer um senso entre seus clientes para descobrir o mais alto, o mais baixo, o mais gordo e o mais magro, para isto você deve fazer um programa que pergunte a cada um dos clientes da academia seu código, sua altura e seu peso. O final da digitação de dados deve ser dada quando o usuário digitar 0 (zero) no campo código. Ao encerrar o programa também deve ser informados os códigos e valores do clente mais alto, do mais baixo, do mais gordo e do mais magro, além da média das alturas e dos pesos dos clientes\n"
   ]
  },
  {
   "cell_type": "code",
   "execution_count": 35,
   "id": "aef64131",
   "metadata": {
    "scrolled": true
   },
   "outputs": [
    {
     "name": "stdout",
     "output_type": "stream",
     "text": [
      "Código do cliente: 1\n",
      "Altura do cliente (em cm): 190\n",
      "Peso do cliente: 100\n",
      "Código do cliente: 2\n",
      "Altura do cliente (em cm): 155\n",
      "Peso do cliente: 45\n",
      "Código do cliente: 3\n",
      "Altura do cliente (em cm): 160\n",
      "Peso do cliente: 60\n",
      "Código do cliente: 4\n",
      "Altura do cliente (em cm): 169\n",
      "Peso do cliente: 70\n",
      "Código do cliente: 5\n",
      "Altura do cliente (em cm): 170\n",
      "Peso do cliente: 75\n",
      "Código do cliente: 6\n",
      "Altura do cliente (em cm): 180\n",
      "Peso do cliente: 90\n",
      "Código do cliente: 0\n",
      "---RELAÇÃO DOS CLIENTES---\n",
      "Cliente mais alto:\n",
      "Código: 1\n",
      "Altura: 1.90 m\n",
      "Cliente mais baixo:\n",
      "Código: 2\n",
      "Altura: 1.55 m\n",
      "Cliente mais gordo:\n",
      "Código: 1\n",
      "Peso: 100 kg\n",
      "Cliente mais magro:\n",
      "Código: 2\n",
      "Peso: 45 kg\n",
      "Média de altura entre os clientes: 1.71 m\n",
      "Média de peso entre os clientes: 73 kg\n"
     ]
    }
   ],
   "source": [
    "# códigos:\n",
    "codigo_mais_gordo = 0\n",
    "codigo_mais_magro = 0\n",
    "codigo_mais_alto = 0\n",
    "codigo_mais_baixo = 0\n",
    "\n",
    "# peso das pessoas:\n",
    "peso_mais_gordo = 0\n",
    "peso_mais_magro = 1000\n",
    "# altura das pessoas\n",
    "altura_mais_alto = 0\n",
    "altura_mais_baixo = 500  \n",
    "\n",
    "pesos = 0\n",
    "alturas = 0\n",
    "clientes = 0\n",
    "\n",
    "while True:\n",
    "    codigo = int(input('Código do cliente: '))\n",
    "    if codigo == 0:\n",
    "        break\n",
    "\n",
    "    clientes += 1\n",
    "    altura = float(input('Altura do cliente (em cm): '))\n",
    "    peso = float(input('Peso do cliente: '))\n",
    "\n",
    "    pesos += peso\n",
    "    alturas += altura\n",
    "\n",
    "    if altura > altura_mais_alto:\n",
    "        altura_mais_alto = altura\n",
    "        codigo_mais_alto = codigo\n",
    "\n",
    "    if altura < altura_mais_baixo:\n",
    "        altura_mais_baixo = altura\n",
    "        codigo_mais_baixo = codigo\n",
    "\n",
    "    if peso > peso_mais_gordo:\n",
    "        peso_mais_gordo = peso\n",
    "        codigo_mais_gordo = codigo\n",
    "\n",
    "    if peso < peso_mais_magro:\n",
    "        peso_mais_magro = peso\n",
    "        codigo_mais_magro = codigo\n",
    "\n",
    "media_alturas = alturas / clientes\n",
    "media_pesos = pesos / clientes\n",
    "\n",
    "\n",
    "print('---RELAÇÃO DOS CLIENTES---')\n",
    "print(f'Cliente mais alto:\\nCódigo: {codigo_mais_alto}\\nAltura: {altura_mais_alto / 100:.2f} m')\n",
    "print(f'Cliente mais baixo:\\nCódigo: {codigo_mais_baixo}\\nAltura: {altura_mais_baixo / 100:.2f} m')     \n",
    "print(f'Cliente mais gordo:\\nCódigo: {codigo_mais_gordo}\\nPeso: {peso_mais_gordo:.0f} kg')\n",
    "print(f'Cliente mais magro:\\nCódigo: {codigo_mais_magro}\\nPeso: {peso_mais_magro:.0f} kg')   \n",
    "print(f'Média de altura entre os clientes: {media_alturas / 100:.2f} m')  \n",
    "print(f'Média de peso entre os clientes: {media_pesos:.0f} kg')"
   ]
  },
  {
   "cell_type": "markdown",
   "id": "2d8e6ba5",
   "metadata": {},
   "source": [
    "#### 38. Um funcionário de uma empresa recebe aumento salarial anualmente: \n",
    "\n",
    "Sabe-se que:\n",
    "- Esse funcionário foi contratado em 1995, com salário inicial de R\\$ 1.000,00;\n",
    "- Em 1996 recebeu aumento de 1,5\\% sobre seu salário inicial;\n",
    "- A partir de 1997 (inclusive), os aumentos salariais sempre correspondem ao dobro do percentual do ano anterior. Faça um programa que determine o salário atual desse funcionário. \n",
    "\n",
    "Após concluir isto, altere o programa permitindo que o usuário digite o salário inicial do funcionário."
   ]
  },
  {
   "cell_type": "code",
   "execution_count": 129,
   "id": "beb2416f",
   "metadata": {
    "scrolled": true
   },
   "outputs": [
    {
     "name": "stdout",
     "output_type": "stream",
     "text": [
      "Ano atual: 2005\n",
      "Salário do funcionário em 1995: R$ 1000\n",
      "O salário do funcionário em 2005 é de: R$ 547664.47\n"
     ]
    }
   ],
   "source": [
    "ano_0 = 1995\n",
    "ano = int(input('Ano atual: '))\n",
    "salario = float(input('Salário do funcionário em 1995: R$ '))\n",
    "aumento = 0.015\n",
    "\n",
    "while ano_0 < ano:\n",
    "    ano_0 += 1\n",
    "    salario = salario + (aumento * salario)\n",
    "    aumento *= 2\n",
    "print(f'O salário do funcionário em {ano} é de: R$ {salario:.2f}')   "
   ]
  },
  {
   "cell_type": "markdown",
   "id": "213562f7",
   "metadata": {},
   "source": [
    "#### 39. Faça um programa que leia dez conjuntos de dois valores\n",
    "\n",
    "o primeiro representando o número do aluno e o segundo representando a sua altura em centímetros. Encontre o aluno mais alto e o mais baixo. Mostre o número do aluno mais alto e o número do aluno mais baixo, junto com suas alturas."
   ]
  },
  {
   "cell_type": "code",
   "execution_count": 133,
   "id": "0db18729",
   "metadata": {
    "scrolled": true
   },
   "outputs": [
    {
     "name": "stdout",
     "output_type": "stream",
     "text": [
      "Altura do aluno 1 em (cm): 160\n",
      "Altura do aluno 2 em (cm): 165\n",
      "Altura do aluno 3 em (cm): 179\n",
      "Altura do aluno 4 em (cm): 190\n",
      "Altura do aluno 5 em (cm): 180\n",
      "Altura do aluno 6 em (cm): 173\n",
      "Altura do aluno 7 em (cm): 164\n",
      "Altura do aluno 8 em (cm): 155\n",
      "Altura do aluno 9 em (cm): 163\n",
      "Altura do aluno 10 em (cm): 183\n",
      "Aluno mais alto:\n",
      "Número: 4\n",
      "Altura: 1.90 m\n",
      "Aluno mais baixo:\n",
      "Número: 8\n",
      "Altura: 1.55 m\n"
     ]
    }
   ],
   "source": [
    "altura_mais_alto = 0\n",
    "num_mais_alto = 0\n",
    "altura_mais_baixo = 200\n",
    "num_mais_baixo = 0\n",
    "\n",
    "for i in range(1, 11):\n",
    "    altura = int(input(f'Altura do aluno {i} em (cm): '))\n",
    "    if altura > altura_mais_alto:\n",
    "        num_mais_alto = i\n",
    "        altura_mais_alto = altura\n",
    "    if altura < altura_mais_baixo:\n",
    "        num_mais_baixo = i\n",
    "        altura_mais_baixo = altura\n",
    "\n",
    "print(f'Aluno mais alto:\\nNúmero: {num_mais_alto}\\nAltura: {altura_mais_alto / 100:.2f} m')\n",
    "print(f'Aluno mais baixo:\\nNúmero: {num_mais_baixo}\\nAltura: {altura_mais_baixo / 100:.2f} m')\n"
   ]
  },
  {
   "cell_type": "markdown",
   "id": "1dba64e0",
   "metadata": {},
   "source": [
    "#### 40.Foi feita uma estatística em cinco cidades brasileiras para coletar dados sobre acidentes de trânsito.\n",
    "<pre>\n",
    "Foram obtidos os seguintes dados:\n",
    "- Código da cidade;\n",
    "- Número de veículos de passeio (em 1999);\n",
    "- Número de acidentes de trânsito com vítimas (em 1999). \n",
    "\n",
    "Deseja-se saber:\n",
    "- Qual o maior e menor índice de acidentes de transito e a que cidade pertence;\n",
    "- Qual a média de veículos nas cinco cidades juntas;\n",
    "- Qual a média de acidentes de trânsito nas cidades com menos de 2.000 veículos de passeio.\n",
    "</pre>"
   ]
  },
  {
   "cell_type": "code",
   "execution_count": 141,
   "id": "7306d510",
   "metadata": {
    "scrolled": true
   },
   "outputs": [
    {
     "name": "stdout",
     "output_type": "stream",
     "text": [
      "Código da cidade: 1\n",
      "Quantidade de veículos de passeio na cidade em 1999: 2000\n",
      "Quantidade de acidentes de trânsito com vítimas em 1999: 150\n",
      "Código da cidade: 2\n",
      "Quantidade de veículos de passeio na cidade em 1999: 2500\n",
      "Quantidade de acidentes de trânsito com vítimas em 1999: 100\n",
      "Código da cidade: 3\n",
      "Quantidade de veículos de passeio na cidade em 1999: 1500\n",
      "Quantidade de acidentes de trânsito com vítimas em 1999: 80\n",
      "Código da cidade: 4\n",
      "Quantidade de veículos de passeio na cidade em 1999: 3000\n",
      "Quantidade de acidentes de trânsito com vítimas em 1999: 200\n",
      "Código da cidade: 5\n",
      "Quantidade de veículos de passeio na cidade em 1999: 1000\n",
      "Quantidade de acidentes de trânsito com vítimas em 1999: 60\n",
      "--- REALAÇÃO DE VEÍCULOS E ACIDENTES EM 1999 ---\n",
      "Cidade com o menor índice de acidentes de trânsito:\n",
      "Código da cidade: 2\n",
      "Índice: 4%\n",
      "Cidade com o maior índice de acidentes de trânsito:\n",
      "Código da cidade: 1\n",
      "Índice: 8%\n",
      "Média de veículos entre as 5 cidades: 2000.0\n",
      "Média de acidentes em cidades com menos de 2000 veículos: 46.7\n"
     ]
    }
   ],
   "source": [
    "codigo = int(input('Código da cidade: '))\n",
    "carros = int(input('Quantidade de veículos de passeio na cidade em 1999: '))\n",
    "acidentes = float(input('Quantidade de acidentes de trânsito com vítimas em 1999: '))\n",
    "\n",
    "\n",
    "indice_acidentes = acidentes / carros\n",
    "maior_indice = indice_acidentes\n",
    "codigo_maior_indice = codigo\n",
    "menor_indice = indice_acidentes\n",
    "codigo_menor_indice = codigo\n",
    "soma = carros\n",
    "soma_menos_2000_carros = 0\n",
    "divisor_media_2000 = 1\n",
    "\n",
    "if carros < 2000:\n",
    "    soma_menos_2000_carros += acidentes\n",
    "    divisor_media_2000 += 1 \n",
    "a = 1\n",
    "while (a < 5):\n",
    "    codigo = int(input('Código da cidade: '))\n",
    "    carros = int(input('Quantidade de veículos de passeio na cidade em 1999: '))\n",
    "    acidentes = float(input('Quantidade de acidentes de trânsito com vítimas em 1999: '))\n",
    "    indice_acidentes = acidentes / carros\n",
    "    soma += carros\n",
    "    if indice_acidentes > maior_indice:\n",
    "        maior_indice = indice_acidentes\n",
    "        codigo_maior_indice = codigo\n",
    "    if indice_acidentes < menor_indice:\n",
    "        menor_indice = indice_acidentes\n",
    "        codigo_menor_indice = codigo\n",
    "    if carros < 2000:\n",
    "        soma_menos_2000_carros += acidentes\n",
    "        divisor_media_2000 += 1\n",
    "\n",
    "    a += 1\n",
    "    media_carros = soma / a\n",
    "    media_acidentes_menos_2000 = soma_menos_2000_carros / divisor_media_2000\n",
    "print('--- REALAÇÃO DE VEÍCULOS E ACIDENTES EM 1999 ---')\n",
    "print(f'Cidade com o menor índice de acidentes de trânsito:\\nCódigo da cidade: {codigo_menor_indice}\\nÍndice: {menor_indice * 100:.0f}%')\n",
    "print(f'Cidade com o maior índice de acidentes de trânsito:\\nCódigo da cidade: {codigo_maior_indice}\\nÍndice: {maior_indice * 100:.0f}%')   \n",
    "print(f'Média de veículos entre as 5 cidades: {media_carros:.1f}')\n",
    "print(f'Média de acidentes em cidades com menos de 2000 veículos: {media_acidentes_menos_2000:.1f}')"
   ]
  }
 ],
 "metadata": {
  "kernelspec": {
   "display_name": "Python 3 (ipykernel)",
   "language": "python",
   "name": "python3"
  },
  "language_info": {
   "codemirror_mode": {
    "name": "ipython",
    "version": 3
   },
   "file_extension": ".py",
   "mimetype": "text/x-python",
   "name": "python",
   "nbconvert_exporter": "python",
   "pygments_lexer": "ipython3",
   "version": "3.9.7"
  }
 },
 "nbformat": 4,
 "nbformat_minor": 5
}
