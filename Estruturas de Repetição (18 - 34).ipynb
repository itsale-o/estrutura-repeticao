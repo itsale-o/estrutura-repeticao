{
 "cells": [
  {
   "cell_type": "markdown",
   "id": "b9875747",
   "metadata": {},
   "source": [
    "# Estruturas de repetição"
   ]
  },
  {
   "cell_type": "markdown",
   "id": "0e37d11e",
   "metadata": {},
   "source": [
    "#### 18. Faça um programa que, dado um conjunto de N números, determine o menor valor, o maior valor e a soma dos valores."
   ]
  },
  {
   "cell_type": "code",
   "execution_count": null,
   "id": "98cface9",
   "metadata": {
    "scrolled": true
   },
   "outputs": [],
   "source": [
    "n = int(input('Informe quantos números terão seu conjunto: '))\n",
    "numeros = []\n",
    "for i in range(n):\n",
    "    num = float(input('Insira um número: '))\n",
    "    numeros.append(num)\n",
    "print(f'Menor do conjunto: {min(numeros):.0f}')\n",
    "print(f'Maior do conjunto: {max(numeros):.0f}')\n",
    "print(f'Soma do menor e maior valor do conjunto: {min(numeros) + max(numeros):.0f}')"
   ]
  },
  {
   "cell_type": "markdown",
   "id": "93ebf292",
   "metadata": {},
   "source": [
    "#### 19. Altere o programa anterior para que ele aceite apenas números entre 0 e 1000."
   ]
  },
  {
   "cell_type": "code",
   "execution_count": null,
   "id": "b1787a68",
   "metadata": {
    "scrolled": true
   },
   "outputs": [],
   "source": [
    "numeros = []\n",
    "qtde = 0\n",
    "\n",
    "n = int(input('Digite a quantiade de número que deseja digitar: '))\n",
    "while n != qtde:\n",
    "    numero = float(input('Digite um número: '))\n",
    "    while numero > 1000 or numero < 0:\n",
    "        numero = float(input('(Erro!)Valor inválido\\nDigite um número: '))\n",
    "    numeros.append(numero)\n",
    "    qtde += 1\n",
    "\n",
    "print(f'Menor do conjunto: {min(numeros):.0f}')\n",
    "print(f'Maior do conjunto: {max(numeros):.0f}')\n",
    "print(f'Soma do menor e maior valores do conjunto: {min(numeros) + max(numeros):.0f}')"
   ]
  },
  {
   "cell_type": "markdown",
   "id": "67094e0a",
   "metadata": {},
   "source": [
    "#### 20. Altere o programa de cálculo do fatorial, permitindo ao usuário calcular o fatorial várias vezes e limitando o fatorial a números inteiros positivos e menores que 16."
   ]
  },
  {
   "cell_type": "code",
   "execution_count": null,
   "id": "e3bc9b17",
   "metadata": {
    "scrolled": false
   },
   "outputs": [],
   "source": [
    "import math\n",
    "vezes = 0\n",
    "n = int(input('Informe quantas vezes deseja calcular o fatorial: '))\n",
    "\n",
    "while n != vezes:\n",
    "    numero = int(input('Informe um número: '))\n",
    "    while numero <= 0 or numero >= 16:\n",
    "        numero = int(input('(Erro!) Informe um número entre 1 e 15: '))\n",
    "    print(f'{numero}! = {math.factorial(numero)}')\n",
    "    vezes += 1"
   ]
  },
  {
   "cell_type": "markdown",
   "id": "3c4f21c3",
   "metadata": {},
   "source": [
    "#### 21. Faça um programa que peça um número inteiro e determine se ele é ou não um número primo. \n",
    "\n",
    "Um número primo é aquele que é divisível somente por ele mesmo e por 1."
   ]
  },
  {
   "cell_type": "code",
   "execution_count": null,
   "id": "14c2029c",
   "metadata": {
    "scrolled": true
   },
   "outputs": [],
   "source": [
    "n = int(input('Insira um número inteiro: '))\n",
    "multiplos = 0\n",
    "\n",
    "for i in range(2, n):\n",
    "    if n % i == 0:\n",
    "        multiplos += 1\n",
    "if multiplos == 0:\n",
    "    print(f'{n} é número primo')\n",
    "else:\n",
    "    print(f'{n} não é número primo')\n"
   ]
  },
  {
   "cell_type": "markdown",
   "id": "d6a6a1be",
   "metadata": {},
   "source": [
    "#### 22. Altere o programa de cálculo dos números primos, informando, caso o número não seja primo, por quais número ele é divisível."
   ]
  },
  {
   "cell_type": "code",
   "execution_count": null,
   "id": "1a46ca7d",
   "metadata": {
    "scrolled": true
   },
   "outputs": [],
   "source": [
    "n = int(input('Insira um número inteiro: '))\n",
    "multiplos = 0\n",
    "\n",
    "for i in range(2, n):\n",
    "    if n % i == 0:\n",
    "        print(f'Múltiplo de {i}')\n",
    "        multiplos += 1\n",
    "if multiplos == 0:\n",
    "    print(f'{n} é número primo')\n",
    "else:\n",
    "    print(f'{n} tem {multiplos} múltiplos, portanto não é número primo')"
   ]
  },
  {
   "cell_type": "markdown",
   "id": "12452bf0",
   "metadata": {},
   "source": [
    "#### 23. Faça um programa que mostre todos os primos entre 1 e N sendo N um número inteiro fornecido pelo usuário. \n",
    "\n",
    "O programa deverá mostrar também o número de divisões que ele executou para encontrar os números primos. Serão avaliados o funcionamento, o estilo e o número de testes (divisões) executados."
   ]
  },
  {
   "cell_type": "code",
   "execution_count": null,
   "id": "c55f4fcd",
   "metadata": {
    "scrolled": false
   },
   "outputs": [],
   "source": [
    "n = int(input('Informe um número: '))\n",
    "div = 0\n",
    "primos = []\n",
    "\n",
    "for i in range(1, n + 1):\n",
    "    if i >= 1:\n",
    "        for j in range(2, i):\n",
    "            if (i % j == 0):\n",
    "                div +=1\n",
    "                break\n",
    "        else:\n",
    "            primos.append(i)\n",
    "            div +=1\n",
    "            print(f'{i} é número primo e foram realizadas {div} para descobrir isso')"
   ]
  },
  {
   "cell_type": "markdown",
   "id": "15977efd",
   "metadata": {},
   "source": [
    "#### 24 . Faça um programa que calcule o mostre a média aritmética de N notas."
   ]
  },
  {
   "cell_type": "code",
   "execution_count": null,
   "id": "b05f6b26",
   "metadata": {
    "scrolled": true
   },
   "outputs": [],
   "source": [
    "qtde_notas = int(input('Informe quantas notas serão processadas: '))\n",
    "notas = 0\n",
    "\n",
    "for i in range(1, qtde_notas + 1):\n",
    "    nota = float(input(f'{i}° nota: '))\n",
    "    notas += nota\n",
    "media = notas / qtde_notas\n",
    "print(f'Média: {media:.1f}')"
   ]
  },
  {
   "cell_type": "markdown",
   "id": "89445d9e",
   "metadata": {},
   "source": [
    "#### 25. Faça um programa que peça para n pessoas a sua idade, ao final o programa devera verificar se a média de idade da turma varia entre 0 e 25, 26 e 60 e maior que 60 e então, dizer se a turma é jovem, adulta ou idosa, conforme a média calculada."
   ]
  },
  {
   "cell_type": "code",
   "execution_count": null,
   "id": "ca7bb31d",
   "metadata": {},
   "outputs": [],
   "source": [
    "qtde_pessoas = int(input('Informe a quantidade de pessoas que participarão do programa: '))\n",
    "idades = 0\n",
    "\n",
    "for i in range(1, qtde_pessoas + 1):\n",
    "    idade = float(input(f'Idade da {i}ª pessoa: '))\n",
    "    idades += idade\n",
    "media_idade = idades / qtde_pessoas\n",
    "\n",
    "if 0 <= media_idade <= 25:\n",
    "    print(f'A média de idade entre os entrevistados é de {media_idade:.0f} anos')\n",
    "    print('Esta turma é jovem')\n",
    "elif 26 <= media_idade <= 60:\n",
    "    print(f'A média de idade entre os entrevistados é de {media_idade:.0f} anos')\n",
    "    print('Esta turma é adulta')\n",
    "else:\n",
    "    print(f'A média de idade entre os entrevistados é de {media_idade:.0f} anos')\n",
    "    print('Esta turma é idosa')"
   ]
  },
  {
   "cell_type": "markdown",
   "id": "2d873dfc",
   "metadata": {},
   "source": [
    "#### 26. Numa eleição existem três candidatos. Faça um programa que peça o número total de eleitores. Peça para cada eleitor votar e ao final mostrar o número de votos de cada candidato."
   ]
  },
  {
   "cell_type": "code",
   "execution_count": null,
   "id": "3d6bad34",
   "metadata": {
    "scrolled": true
   },
   "outputs": [],
   "source": [
    "qtde_eleitores = int(input('Informe a quantidade de eleitores: '))\n",
    "candidato1 = 0\n",
    "candidato2 = 0\n",
    "candidato3 = 0\n",
    "nulo = 0\n",
    "\n",
    "for i in range(qtde_eleitores):\n",
    "    voto = int(input('1 - Candidato 1\\n2 - Candidato 2\\n3 - Candidato 3\\nInforme seu voto: '))\n",
    "    if voto == 1:\n",
    "        candidato1 += 1\n",
    "    elif voto == 2:\n",
    "        candidato2 += 1\n",
    "    elif voto == 3:\n",
    "        candidato3 += 1\n",
    "    else:\n",
    "        nulo += 1\n",
    "print(f'O Candidato 1 recebeu {candidato1} votos')\n",
    "print(f'O Candidato 2 recebeu {candidato2} votos')\n",
    "print(f'O Candidato 3 recebeu {candidato3} votos')\n",
    "print(f'Houveram {nulo} votos anulados')"
   ]
  },
  {
   "cell_type": "markdown",
   "id": "7862263a",
   "metadata": {},
   "source": [
    "#### 27. Faça um programa que calcule o número médio de alunos por turma. Para isto, peça a quantidade de turmas e a quantidade de alunos para cada turma. As turmas não podem ter mais de 40 alunos."
   ]
  },
  {
   "cell_type": "code",
   "execution_count": null,
   "id": "5cfa55fd",
   "metadata": {},
   "outputs": [],
   "source": [
    "qtde_turmas = int(input('Informe a quantidade de turmas: '))\n",
    "total_alunos = 0\n",
    "\n",
    "for i in range(qtde_turmas):\n",
    "    qtde_alunos = int(input(f'Quantidade de alunos na turma {i + 1}: '))\n",
    "    total_alunos += qtde_alunos\n",
    "media_alunos = total_alunos / qtde_turmas\n",
    "print(f'Média de alunos por turma: {media_alunos:.1f}')"
   ]
  },
  {
   "cell_type": "markdown",
   "id": "c3448109",
   "metadata": {},
   "source": [
    "#### 28. Faça um programa que calcule o valor total investido por um colecionador em sua coleção de CDs e o valor médio gasto em cada um deles. O usuário deverá informar a quantidade de CDs e o valor para em cada um."
   ]
  },
  {
   "cell_type": "code",
   "execution_count": null,
   "id": "e603a341",
   "metadata": {
    "scrolled": true
   },
   "outputs": [],
   "source": [
    "qtde_cds = int(input(f'Informe a quatidade de CDs: '))\n",
    "total = 0\n",
    "\n",
    "for i in range(qtde_cds):\n",
    "    valor = float(input(f'Informe o preço do {i + 1}º CD: '))\n",
    "    total += valor\n",
    "media_valor = total / qtde_cds\n",
    "print(f'Média por CD: R$ {media_valor:.2f}')"
   ]
  },
  {
   "cell_type": "markdown",
   "id": "cbd96c3e",
   "metadata": {},
   "source": [
    "#### 29. O Sr. Manoel Joaquim possui uma grande loja de artigos de R\\\\$ 1,99, com cerca de 10 caixas. \n",
    "\n",
    "Para agilizar o cálculo de quanto cada cliente deve pagar ele desenvolveu um tabela que contém o número de itens que o cliente comprou e ao lado o valor da conta. Desta forma a atendente do caixa precisa apenas contar quantos itens o cliente está levando e olhar na tabela de preços. Você foi contratado para desenvolver o programa que monta esta tabela de preços, que conterá os preços de 1 até 50 produtos, conforme o exemplo abaixo:\n",
    "<pre>\n",
    "Lojas Quase Dois - Tabela de preços\n",
    "1 - R$ 1.99\n",
    "2 - R$ 3.98\n",
    "...\n",
    "50 - R$ 99.50\n",
    "</pre>"
   ]
  },
  {
   "cell_type": "code",
   "execution_count": null,
   "id": "c9199ff1",
   "metadata": {
    "scrolled": true
   },
   "outputs": [],
   "source": [
    "print('Loja Quase Dois - Tabela de preços')\n",
    "\n",
    "for i in range(50):\n",
    "    precos = (i + 1) * 1.99\n",
    "    print(f'{i + 1} - R$ {precos:.2f}')"
   ]
  },
  {
   "cell_type": "markdown",
   "id": "bc32052c",
   "metadata": {},
   "source": [
    "#### 30. O Sr. Manoel Joaquim acaba de adquirir uma panificadora e pretende implantar a metodologia da tabelinha, que já é um sucesso na sua loja de R\\\\$ 1,99. \n",
    "\n",
    "Você foi contratado para desenvolver o programa que monta a tabela de preços de pães, de 1 até 50 pães, a partir do preço do pão informado pelo usuário, conforme o exemplo abaixo:\n",
    "<pre>\n",
    "Preço do pão: R$ 0.18\n",
    "Panificadora Pão de Ontem - Tabela de preços\n",
    "1 - R$ 0.18\n",
    "2 - R$ 0.36\n",
    "...\n",
    "50 - R$ 9.0\n",
    "</pre>\n"
   ]
  },
  {
   "cell_type": "code",
   "execution_count": null,
   "id": "c159379e",
   "metadata": {
    "scrolled": true
   },
   "outputs": [],
   "source": [
    "preco = float(input('Preço do pão: R$ '))\n",
    "\n",
    "print('Panificadora Pão de Ontem - Tabela de preços')\n",
    "for i in range(50):\n",
    "    preco_por_qtde = (i + 1) * preco\n",
    "    print(f'{i + 1} - R$ {preco_por_qtde:.2f}')"
   ]
  },
  {
   "cell_type": "markdown",
   "id": "a9a1ee61",
   "metadata": {},
   "source": [
    "#### 31. O Sr. Manoel Joaquim expandiu seus negócios para além dos negócios de 1,99 e agora possui uma loja de conveniências. Faça um programa que implemente uma caixa registradora rudimentar.\n",
    "\n",
    "O programa deverá receber um número desconhecido de valores referentes aos preços das mercadorias. Um valor zero deve ser informado pelo operador para indicar o final da compra. O programa deve então mostrar o total da compra e perguntar o valor em dinheiro que o cliente forneceu, para então calcular e mostrar o valor do troco. Após esta operação, o programa deverá voltar ao ponto inicial, para registrar a próxima compra. A saída deve ser conforme o exemplo abaixo:\n",
    "\n",
    "<pre>\n",
    "Lojas Tabajara \n",
    "Produto 1: R$ 2.20\n",
    "Produto 2: R$ 5.80\n",
    "Produto 3: R$ 0\n",
    "Total: R$ 9.00\n",
    "Dinheiro: R$ 20.00\n",
    "Troco: R$ 11.00\n",
    "...\n",
    "</pre>"
   ]
  },
  {
   "cell_type": "code",
   "execution_count": null,
   "id": "07d2fd25",
   "metadata": {
    "scrolled": true
   },
   "outputs": [],
   "source": [
    "valor_produto = float(input('Informe o valor do produto: R$ '))\n",
    "produtos = 1\n",
    "valores = [valor_produto]\n",
    "\n",
    "while valor_produto != 0:\n",
    "    valor_produto = float(input('Informe o valor do produto: R$ '))\n",
    "    valores.append(valor_produto)\n",
    "    produtos +=1\n",
    "print(f'Total a pagar: R${sum(valores):.2f}')\n",
    "dinheiro = float(input('Total recebido: R$ '))\n",
    "troco = dinheiro - sum(valores)\n",
    "\n",
    "print('-------------------------')\n",
    "print('Lojas Tabajara')\n",
    "for i in range(produtos):\n",
    "    print(f'Produto {i + 1}: R$ {valores[i]:.2f}')\n",
    "print(f'Total: R$ {sum(valores):.2f}')\n",
    "print(f'Dinheiro: R$ {dinheiro:.2f}')\n",
    "print(f'Troco: R$ {troco:.2f}')"
   ]
  },
  {
   "cell_type": "markdown",
   "id": "5b11c2ad",
   "metadata": {},
   "source": [
    "#### 32. Faça um programa que calcule o fatorial de um número inteiro fornecido pelo usuário. Ex.: 5!=5.4.3.2.1=120. A saída deve ser conforme o exemplo abaixo:\n",
    "<pre>\n",
    "Fatorial de: 5\n",
    "5! =  5 . 4 . 3 . 2 . 1 = 120\n",
    "</pre"
   ]
  },
  {
   "cell_type": "code",
   "execution_count": null,
   "id": "e642d39b",
   "metadata": {
    "scrolled": true
   },
   "outputs": [],
   "source": [
    "import math\n",
    "numero = int(input('Informe um número para que seja calculado o seu fatorial: '))\n",
    "numeros = numero\n",
    "fatorial = math.factorial(numero)\n",
    "\n",
    "print(f'{numero}! = ', end = '')\n",
    "for i in range(numero - 1):\n",
    "    print(numeros, end = ' x ')\n",
    "    numeros -= 1\n",
    "print('1 =', fatorial)"
   ]
  },
  {
   "cell_type": "markdown",
   "id": "d187b79a",
   "metadata": {},
   "source": [
    "#### 33. O Departamento Estadual de Meteorologia lhe contratou para desenvolver um programa que leia um conjunto indeterminado de temperaturas e informe, ao final, a menor e a maior temperaturas informadas, bem como a média das temperaturas."
   ]
  },
  {
   "cell_type": "code",
   "execution_count": null,
   "id": "799242f7",
   "metadata": {
    "scrolled": true
   },
   "outputs": [],
   "source": [
    "n = int(input('Quantidade de entradas: '))\n",
    "temperaturas = []\n",
    "\n",
    "for i in range(n):\n",
    "    temp = float(input('Informe a temperatura: '))\n",
    "    temperaturas.append(temp)\n",
    "media = sum(temperaturas) / n\n",
    "print(f'A maior temperatura informada é: {max(temperaturas):.1f} °C')\n",
    "print(f'A menor temperatura informada é: {min(temperaturas):.1f} °C')\n",
    "print(f'A média de temperatura entre as temperaturas informadas é: {media:.1f} °C')\n"
   ]
  },
  {
   "cell_type": "markdown",
   "id": "00a75352",
   "metadata": {},
   "source": [
    "#### 34. Os números primos possuem várias aplicações dentro da Computação, por exemplo na Criptografia. Um número primo é aquele que é divisível apenas por um e por ele mesmo. Faça um programa que peça um número inteiro e determine se ele é ou não um número primo."
   ]
  },
  {
   "cell_type": "code",
   "execution_count": null,
   "id": "1cbb3e51",
   "metadata": {},
   "outputs": [],
   "source": [
    "n = int(input('Insira um número inteiro: '))\n",
    "multiplos = 0\n",
    "\n",
    "for i in range(2, n):\n",
    "    if n % i == 0:\n",
    "        multiplos += 1\n",
    "if multiplos == 0:\n",
    "    print(f'{n} é número primo')\n",
    "else:\n",
    "    print(f'{n} não é número primo')"
   ]
  }
 ],
 "metadata": {
  "kernelspec": {
   "display_name": "Python 3 (ipykernel)",
   "language": "python",
   "name": "python3"
  },
  "language_info": {
   "codemirror_mode": {
    "name": "ipython",
    "version": 3
   },
   "file_extension": ".py",
   "mimetype": "text/x-python",
   "name": "python",
   "nbconvert_exporter": "python",
   "pygments_lexer": "ipython3",
   "version": "3.9.7"
  }
 },
 "nbformat": 4,
 "nbformat_minor": 5
}
